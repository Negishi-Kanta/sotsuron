{
 "cells": [
  {
   "cell_type": "code",
   "execution_count": null,
   "metadata": {},
   "outputs": [
    {
     "name": "stdout",
     "output_type": "stream",
     "text": [
      "1100000000\n",
      "120       \n",
      " 30       \n",
      "\n",
      "0012300000\n",
      "001       \n",
      " 01       \n",
      "\n",
      "0000011123\n",
      "000       \n",
      " 00       \n",
      "\n",
      "0000000000\n",
      "000       \n",
      " 00       \n"
     ]
    }
   ],
   "source": [
    "import sys\n",
    "import copy\n",
    "import os\n",
    "import numpy as np\n",
    "import time\n",
    "from IPython.display import clear_output\n",
    "\n",
    "def transport( cell , cell_tmp , k ):\n",
    "    count = 0\n",
    "    for i in range(L):\n",
    "        for j in range(M):\n",
    "            if cell[i][j] == k:\n",
    "                cell[i][j] = 0\n",
    "                count += 1\n",
    "                continue\n",
    "            elif cell[i][j] == 0 and count > 0:\n",
    "                cell_tmp[i][j] = k\n",
    "                count -= 1\n",
    "    for i in range(L):\n",
    "        for j in range(M):\n",
    "            cell[i][j] += cell_tmp[i][j]\n",
    "\n",
    "def live_or_dead( cell ):    \n",
    "    for k in range(1,N+1):\n",
    "        transport( cell , np.zeros( (L, M, ) , dtype = int ) , k )\n",
    "\n",
    "#データ読み込み\n",
    "\n",
    "mat = []\n",
    "\n",
    "with open('bigbox_data.txt', 'r', encoding='utf-8') as fin:  # ファイルを開く\n",
    "    for line in fin.readlines():  # 行をすべて読み込んで1行ずつfor文で回す\n",
    "        row = []  # 行のデータを保存するリスト\n",
    "        toks = line.split(' ')  # 行を半角スペースで分割する\n",
    "        for tok in toks:  # 分割したトークン列を回す\n",
    "            try:\n",
    "                num = int(tok)  # 整数に変換\n",
    "            except ValueError:\n",
    "                print(e, file=sys.stderr)  # エラーが出たら画面に出力して\n",
    "                continue  # スキップ\n",
    "\n",
    "            row.append(num)  # 行に保存\n",
    "\n",
    "        mat.append(row)  # 行をnumsに保存\n",
    "\n",
    "l = []\n",
    "for i in range( len(mat) ):\n",
    "    l.append( len( mat[i] ) )\n",
    "\n",
    "\n",
    "M = max( l )\n",
    "\n",
    "for j in range( len( mat ) ):\n",
    "    for i in range( M - len( mat[j] ) ):\n",
    "        mat[j].append( -1 )\n",
    "        \n",
    "#時間発展の処理\n",
    "\n",
    "\n",
    "L = len( mat )\n",
    "N = np.max( mat )\n",
    "\n",
    "while True:\n",
    "    for j in range(M):\n",
    "        for i in range(L):\n",
    "            if mat[i][j] == -1:\n",
    "                print(' ', end='')\n",
    "            else:\n",
    "                print( mat[i][j] , end='')\n",
    "        print( '\\n' , end='')\n",
    "        \n",
    "    c = input()\n",
    "    \n",
    "    live_or_dead( mat )"
   ]
  },
  {
   "cell_type": "code",
   "execution_count": null,
   "metadata": {},
   "outputs": [],
   "source": [
    "for i in range( 0 ):\n",
    "    print('a')"
   ]
  },
  {
   "cell_type": "code",
   "execution_count": null,
   "metadata": {},
   "outputs": [],
   "source": []
  }
 ],
 "metadata": {
  "kernelspec": {
   "display_name": "Python 3",
   "language": "python",
   "name": "python3"
  },
  "language_info": {
   "codemirror_mode": {
    "name": "ipython",
    "version": 3
   },
   "file_extension": ".py",
   "mimetype": "text/x-python",
   "name": "python",
   "nbconvert_exporter": "python",
   "pygments_lexer": "ipython3",
   "version": "3.8.5"
  }
 },
 "nbformat": 4,
 "nbformat_minor": 4
}
