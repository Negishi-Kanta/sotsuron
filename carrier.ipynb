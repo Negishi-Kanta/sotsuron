{
 "cells": [
  {
   "cell_type": "code",
   "execution_count": null,
   "metadata": {},
   "outputs": [
    {
     "name": "stdout",
     "output_type": "stream",
     "text": [
      ".1111...11..1.................\n",
      "....1111..11.1................\n",
      ".......111..1.111.............\n",
      "..........11.1..1111..........\n",
      "............1.11...1111.......\n",
      ".............1..11....1111...."
     ]
    }
   ],
   "source": [
    "import sys\n",
    "import copy\n",
    "import os\n",
    "\n",
    "count_max = 3\n",
    "\n",
    "def init( cell ):\n",
    "    for i in range(L):\n",
    "        cell[i] = 0\n",
    "\n",
    "def transport( cell , cell_tmp , k ):\n",
    "    count = 0\n",
    "    for i in range(L):\n",
    "        if cell[i] == k and count < count_max:\n",
    "            cell[i] = 0\n",
    "            count += 1\n",
    "            continue\n",
    "        elif cell[i] == 0 and count > 0:\n",
    "            cell_tmp[i] = k\n",
    "            count -= 1\n",
    "    for i in range(L):\n",
    "        cell[i] += cell_tmp[i]\n",
    "\n",
    "def live_or_dead( cell ):\n",
    "    cell_tmp = []\n",
    "\n",
    "    for i in range(L):\n",
    "        cell_tmp.append(0)\n",
    "    \n",
    "    for k in range(1,N+1):\n",
    "        transport( cell , cell_tmp , k )\n",
    "        init( cell_tmp )\n",
    "\n",
    "#データ読み込み\n",
    "\n",
    "nums = []\n",
    "\n",
    "with open('carrier_data.txt','r', encoding='utf-8') as fin:\n",
    "    for line in fin.readlines():\n",
    "        try:\n",
    "            num = int(line)\n",
    "        except ValueError as e:\n",
    "            print(e, file=sys.stderr)\n",
    "            continue\n",
    "\n",
    "        nums.append(num)\n",
    "\n",
    "#時間発展の処理\n",
    "\n",
    "L = len( nums )\n",
    "N = max( nums )\n",
    "\n",
    "while True:\n",
    "    for i in range(L):\n",
    "        if nums[i] == 0:\n",
    "            print('.', end='')\n",
    "        else:\n",
    "            print(nums[i], end='')\n",
    "    live_or_dead( nums )\n",
    "    c = input()\n",
    "    os.system('cls')"
   ]
  },
  {
   "cell_type": "code",
   "execution_count": null,
   "metadata": {},
   "outputs": [],
   "source": []
  },
  {
   "cell_type": "code",
   "execution_count": null,
   "metadata": {},
   "outputs": [],
   "source": []
  }
 ],
 "metadata": {
  "kernelspec": {
   "display_name": "Python 3",
   "language": "python",
   "name": "python3"
  },
  "language_info": {
   "codemirror_mode": {
    "name": "ipython",
    "version": 3
   },
   "file_extension": ".py",
   "mimetype": "text/x-python",
   "name": "python",
   "nbconvert_exporter": "python",
   "pygments_lexer": "ipython3",
   "version": "3.8.5"
  }
 },
 "nbformat": 4,
 "nbformat_minor": 4
}
